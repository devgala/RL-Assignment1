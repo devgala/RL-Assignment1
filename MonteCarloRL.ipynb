{
 "cells": [
  {
   "cell_type": "code",
   "execution_count": 1,
   "metadata": {},
   "outputs": [],
   "source": [
    "from MaxTreasureMaze import MaxTreasureMazeGame,MaxTreasureMazeGameOffPolicy\n",
    "import matplotlib.pyplot as plt\n",
    "import seaborn as sns\n",
    "import numpy as np"
   ]
  },
  {
   "cell_type": "markdown",
   "metadata": {},
   "source": [
    "On Policy MC control"
   ]
  },
  {
   "cell_type": "code",
   "execution_count": 2,
   "metadata": {},
   "outputs": [],
   "source": [
    "game = MaxTreasureMazeGame(1000,int(1e7),0.6,0.8)"
   ]
  },
  {
   "cell_type": "code",
   "execution_count": null,
   "metadata": {},
   "outputs": [],
   "source": [
    "game.mc_control()"
   ]
  },
  {
   "cell_type": "code",
   "execution_count": null,
   "metadata": {},
   "outputs": [],
   "source": [
    "game.plotQ_hist()"
   ]
  },
  {
   "cell_type": "code",
   "execution_count": null,
   "metadata": {},
   "outputs": [],
   "source": [
    "heat_maps = game.create_heat_map()\n",
    "for i in range(0,game.treasure_count+1):\n",
    "    fig = plt.figure(figsize = (4,4))\n",
    "    if(i==3):\n",
    "        print( heat_maps[i])\n",
    "    ax = sns.heatmap( heat_maps[i] , linewidth = 1 , cmap = 'mako' )\n",
    "    plt.title( f\"Maze Heat Map with {i} treasures\" )\n",
    "    plt.savefig(f\"heat_map_on_policy_{i}.png\")"
   ]
  },
  {
   "cell_type": "code",
   "execution_count": null,
   "metadata": {},
   "outputs": [],
   "source": [
    "action_maps = game.create_action_map()\n",
    "for i in range(0,game.treasure_count+1):\n",
    "    print(action_maps[i])"
   ]
  },
  {
   "cell_type": "markdown",
   "metadata": {},
   "source": [
    "Off Policy MC control"
   ]
  },
  {
   "cell_type": "code",
   "execution_count": 2,
   "metadata": {},
   "outputs": [],
   "source": [
    "game = MaxTreasureMazeGameOffPolicy(10000,1e8,0.4,0.8)"
   ]
  },
  {
   "cell_type": "code",
   "execution_count": null,
   "metadata": {},
   "outputs": [],
   "source": [
    "game.mc_control()"
   ]
  },
  {
   "cell_type": "code",
   "execution_count": null,
   "metadata": {},
   "outputs": [],
   "source": [
    "heat_maps = game.create_heat_map()\n",
    "for i in range(0,game.treasure_count+1):\n",
    "    fig = plt.figure(figsize = (4,4))\n",
    "    if(i==0):\n",
    "        print(heat_maps[i])\n",
    "    ax = sns.heatmap( heat_maps[i] , linewidth = 1 , cmap = 'mako' )\n",
    "    plt.title( f\"Maze Heat Map with {i} treasures\" )\n",
    "    plt.savefig(f\"heat_map_off_policy_{i}.png\")"
   ]
  },
  {
   "cell_type": "code",
   "execution_count": null,
   "metadata": {},
   "outputs": [],
   "source": [
    "action_maps = game.create_action_map()\n",
    "for i in range(0,game.treasure_count+1):\n",
    "    print(action_maps[i])"
   ]
  },
  {
   "cell_type": "code",
   "execution_count": null,
   "metadata": {},
   "outputs": [],
   "source": [
    "game.plotQ_hist()"
   ]
  }
 ],
 "metadata": {
  "kernelspec": {
   "display_name": "Python 3",
   "language": "python",
   "name": "python3"
  },
  "language_info": {
   "codemirror_mode": {
    "name": "ipython",
    "version": 3
   },
   "file_extension": ".py",
   "mimetype": "text/x-python",
   "name": "python",
   "nbconvert_exporter": "python",
   "pygments_lexer": "ipython3",
   "version": "3.11.3"
  }
 },
 "nbformat": 4,
 "nbformat_minor": 2
}
